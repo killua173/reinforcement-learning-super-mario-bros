{
 "cells": [
  {
   "cell_type": "markdown",
   "id": "74ef85f2-085f-4c02-8c9a-90542bdded4a",
   "metadata": {},
   "source": [
    "# Importing necessary libraries"
   ]
  },
  {
   "cell_type": "code",
   "execution_count": 9,
   "id": "d26bfd54-2d7b-43c8-a81c-3a144101d58b",
   "metadata": {},
   "outputs": [],
   "source": [
    "import os\n",
    "import numpy as np\n",
    "from stable_baselines3 import PPO\n",
    "from stable_baselines3.common.callbacks import BaseCallback\n",
    "from stable_baselines3.common.results_plotter import ts2xy, load_results\n",
    "from stable_baselines3.common.vec_env import DummyVecEnv, SubprocVecEnv, VecMonitor,VecFrameStack\n",
    "from stable_baselines3.common.utils import set_random_seed\n",
    "from stable_baselines3.common.monitor import Monitor\n",
    "from gym.wrappers import ResizeObservation, GrayScaleObservation\n",
    "from stable_baselines3.common.atari_wrappers import MaxAndSkipEnv\n",
    "import gym_super_mario_bros\n",
    "from nes_py.wrappers import JoypadSpace\n",
    "from gym_super_mario_bros.actions import SIMPLE_MOVEMENT\n",
    "import retro\n",
    "import time\n",
    "from matplotlib import pyplot as plt"
   ]
  },
  {
   "cell_type": "markdown",
   "id": "7d094f55-cf5a-4eca-a18d-25b7c49d3a42",
   "metadata": {},
   "source": [
    "# Setting the environment (same way model trained on)"
   ]
  },
  {
   "cell_type": "code",
   "execution_count": 10,
   "id": "0b46d7ac-6bc8-46d5-b836-0787abc23d9b",
   "metadata": {},
   "outputs": [],
   "source": [
    "def make_env(env_id):\n",
    "    def _init():\n",
    "        env = gym_super_mario_bros.make(env_id)\n",
    "        env = JoypadSpace(env, SIMPLE_MOVEMENT)\n",
    "        env = ResizeObservation(env, shape=(84, 84))\n",
    "        env = GrayScaleObservation(env, keep_dim=True)\n",
    "        env = MaxAndSkipEnv(env, 4)\n",
    "        return env\n",
    "\n",
    "    return _init\n"
   ]
  },
  {
   "cell_type": "code",
   "execution_count": 11,
   "id": "8775b037-f906-4d62-86a1-14cc034b29c1",
   "metadata": {},
   "outputs": [],
   "source": [
    "#env_id = 'SuperMarioBros-1-2-v0'\n",
    "#env_id = 'SuperMarioBros-1-1-v0'\n",
    "env_id = 'SuperMarioBros-v0'\n"
   ]
  },
  {
   "cell_type": "markdown",
   "id": "7c8fd891-6c97-45a3-93cd-4c62b3d2b7a5",
   "metadata": {},
   "source": [
    "# 4 environments (the way that the ai is trained)"
   ]
  },
  {
   "cell_type": "code",
   "execution_count": 12,
   "id": "a2d6fcba-a51b-4927-a5b1-be210f19b01a",
   "metadata": {},
   "outputs": [],
   "source": [
    "if __name__ == '__main__':\n",
    "    # Part 7: Set environment and training parameters\n",
    "    \n",
    "    environment_count = 4\n",
    "    \n",
    "    # Part 8: Create the vectorized environment\n",
    "    env = VecFrameStack(SubprocVecEnv([make_env(env_id) for i in range(environment_count)]), n_stack=4, channels_order='last')\n"
   ]
  },
  {
   "cell_type": "markdown",
   "id": "06514a83-85a3-48da-9972-262552ff4472",
   "metadata": {},
   "source": [
    "# Or Normal (1 environment)"
   ]
  },
  {
   "cell_type": "code",
   "execution_count": 13,
   "id": "f1c8b5c1-969f-4cf0-9bb0-ebb11dbacfa8",
   "metadata": {},
   "outputs": [],
   "source": [
    "env = make_env(env_id)  # Create the environment\n",
    "env = VecFrameStack(DummyVecEnv([make_env(env_id)]), n_stack=4, channels_order='last')"
   ]
  },
  {
   "cell_type": "code",
   "execution_count": 14,
   "id": "dcbc4c75-efcd-4371-b51d-b3df99e084e1",
   "metadata": {},
   "outputs": [
    {
     "data": {
      "image/png": "[encoded data removed]",
      "text/plain": [
       "<Figure size 2000x1600 with 4 Axes>"
      ]
     },
     "metadata": {},
     "output_type": "display_data"
    }
   ],
   "source": [
    "state = env.reset()\n",
    "env.step([5])\n",
    "env.step([5])\n",
    "state, reward, done, info =env.step([5])\n",
    "plt.figure(figsize=(20,16))\n",
    "for idx in range(state.shape[3]):\n",
    "    plt.subplot(1,4,idx+1)\n",
    "    plt.imshow(state[0][:,:,idx])\n",
    "plt.show()"
   ]
  },
  {
   "cell_type": "markdown",
   "id": "1266ac0f-fae7-4bf9-8178-04ba26d50f40",
   "metadata": {},
   "source": [
    "# Loading the m"
   ]
  },
  {
   "cell_type": "code",
   "execution_count": 15,
   "id": "f0023eaa-7a67-4496-90fe-00249deda308",
   "metadata": {},
   "outputs": [],
   "source": [
    "#model = PPO.load('./logs08/ssv3')\n",
    "#model = PPO.load('./logs08/480000')\n",
    "#model = PPO.load('./logs42_41/1072000_v1')\n",
    "#model = PPO.load('./logs42_41/25000')\n",
    "model = PPO.load('./logs38_39_41/2000000_v2')"
   ]
  },
  {
   "cell_type": "markdown",
   "id": "0bc60220-d27f-4d1e-92ae-500c6799ebe3",
   "metadata": {},
   "source": [
    "# Running it "
   ]
  },
  {
   "cell_type": "code",
   "execution_count": null,
   "id": "4bf9b530-5c53-4c16-85eb-92f681493177",
   "metadata": {},
   "outputs": [],
   "source": [
    "state = env.reset()\n",
    "\n",
    "\n",
    "while True:\n",
    "    \n",
    "    action, _ = model.predict(state)\n",
    "\n",
    "    state, reward, done, info = env.step(action)\n",
    "    \n",
    "     \n",
    "    env.render()\n",
    "    time.sleep(1 / 60)\n",
    "\n",
    "\n"
   ]
  },
  {
   "cell_type": "code",
   "execution_count": null,
   "id": "a3150eb7-5ac7-4d5d-900a-2db958607d5c",
   "metadata": {},
   "outputs": [],
   "source": []
  },
  {
   "cell_type": "code",
   "execution_count": null,
   "id": "66319dc1-a89c-4bca-bc1a-81bcec510731",
   "metadata": {},
   "outputs": [],
   "source": []
  }
 ],
 "metadata": {
  "kernelspec": {
   "display_name": "Python 3 (ipykernel)",
   "language": "python",
   "name": "python3"
  },
  "language_info": {
   "codemirror_mode": {
    "name": "ipython",
    "version": 3
   },
   "file_extension": ".py",
   "mimetype": "text/x-python",
   "name": "python",
   "nbconvert_exporter": "python",
   "pygments_lexer": "ipython3",
   "version": "3.8.0"
  }
 },
 "nbformat": 4,
 "nbformat_minor": 5
}
